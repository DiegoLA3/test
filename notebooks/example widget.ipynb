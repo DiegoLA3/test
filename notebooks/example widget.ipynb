{
 "cells": [
  {
   "cell_type": "code",
   "execution_count": 1,
   "metadata": {},
   "outputs": [
    {
     "data": {
      "application/vnd.jupyter.widget-view+json": {
       "model_id": "e88f44fe593e4a1cb3d17ea378eabf64",
       "version_major": 2,
       "version_minor": 0
      },
      "text/plain": [
       "HypernetxWidget(component='HypernetxWidget', props={'nodes': [{'uid': 'FN', 'value': 1}, {'uid': 'TH', 'value'…"
      ]
     },
     "metadata": {},
     "output_type": "display_data"
    }
   ],
   "source": [
    "from hnxwidget import HypernetxWidget\n",
    "import hypernetx as hnx\n",
    "\n",
    "scenes = {\n",
    "    0: ('FN', 'TH'),\n",
    "    1: ('TH', 'JV'),\n",
    "    2: ('BM', 'FN', 'JA'),\n",
    "    3: ('JV', 'JU', 'CH', 'BM'),\n",
    "    4: ('JU', 'CH', 'BR', 'CN', 'CC', 'JV', 'BM'),\n",
    "    5: ('TH', 'GP'),\n",
    "    6: ('GP', 'MP'),\n",
    "    7: ('MA', 'GP'),\n",
    "}\n",
    "\n",
    "H = hnx.Hypergraph(scenes)\n",
    "self = HypernetxWidget(H)\n",
    "self"
   ]
  },
  {
   "cell_type": "code",
   "execution_count": 2,
   "metadata": {},
   "outputs": [
    {
     "data": {
      "text/plain": [
       "{'pos': {'FN': [472.04268375350046, 140.06652931133382],\n",
       "  'TH': [498.1724464491207, 279.4268319972997],\n",
       "  'JV': [318.02564483583154, 301.63371325469905],\n",
       "  'BM': [293.37540860068435, 221.3612023211251],\n",
       "  'JA': [401.64006441878934, 164.52355167600533],\n",
       "  'JU': [248.30600044313437, 278.8241260125997],\n",
       "  'CH': [261.3716736978079, 350.31073179573],\n",
       "  'BR': [199.15369425191548, 225.70390112575845],\n",
       "  'CN': [146.23067307542314, 277.2765870701512],\n",
       "  'CC': [191.65633139799266, 336.40586160570575],\n",
       "  'GP': [580.9267777305882, 397.84241871987314],\n",
       "  'MP': [555.2331793556086, 493.042276122106],\n",
       "  'MA': [678.8517296262627, 410.5147283453876]},\n",
       " 'node_fill': {'FN': '#000000ff',\n",
       "  'TH': '#000000ff',\n",
       "  'JV': '#000000ff',\n",
       "  'BM': '#000000ff',\n",
       "  'JA': '#000000ff',\n",
       "  'JU': '#000000ff',\n",
       "  'CH': '#000000ff',\n",
       "  'BR': '#000000ff',\n",
       "  'CN': '#000000ff',\n",
       "  'CC': '#000000ff',\n",
       "  'GP': '#000000ff',\n",
       "  'MP': '#000000ff',\n",
       "  'MA': '#000000ff'},\n",
       " 'edge_stroke': {'0': '#1f77b4ff',\n",
       "  '1': '#ff7f0eff',\n",
       "  '2': '#2ca02cff',\n",
       "  '3': '#d62728ff',\n",
       "  '4': '#9467bdff',\n",
       "  '5': '#8c564bff',\n",
       "  '6': '#e377c2ff',\n",
       "  '7': '#7f7f7fff'},\n",
       " 'selected_nodes': {'FN': False,\n",
       "  'TH': False,\n",
       "  'JV': False,\n",
       "  'BM': False,\n",
       "  'JA': False,\n",
       "  'JU': False,\n",
       "  'CH': False,\n",
       "  'BR': False,\n",
       "  'CN': False,\n",
       "  'CC': False,\n",
       "  'GP': False,\n",
       "  'MP': False,\n",
       "  'MA': False},\n",
       " 'selected_edges': {'0': False,\n",
       "  '1': False,\n",
       "  '2': False,\n",
       "  '3': False,\n",
       "  '4': False,\n",
       "  '5': False,\n",
       "  '6': False,\n",
       "  '7': False},\n",
       " 'hidden_nodes': {'FN': False,\n",
       "  'TH': False,\n",
       "  'JV': False,\n",
       "  'BM': False,\n",
       "  'JA': False,\n",
       "  'JU': False,\n",
       "  'CH': False,\n",
       "  'BR': False,\n",
       "  'CN': False,\n",
       "  'CC': False,\n",
       "  'GP': False,\n",
       "  'MP': False,\n",
       "  'MA': False},\n",
       " 'hidden_edges': {'0': False,\n",
       "  '1': False,\n",
       "  '2': False,\n",
       "  '3': False,\n",
       "  '4': False,\n",
       "  '5': False,\n",
       "  '6': False,\n",
       "  '7': False},\n",
       " 'removed_nodes': {'FN': False,\n",
       "  'TH': False,\n",
       "  'JV': False,\n",
       "  'BM': False,\n",
       "  'JA': False,\n",
       "  'JU': False,\n",
       "  'CH': False,\n",
       "  'BR': False,\n",
       "  'CN': False,\n",
       "  'CC': False,\n",
       "  'GP': False,\n",
       "  'MP': False,\n",
       "  'MA': False},\n",
       " 'removed_edges': {'0': False,\n",
       "  '1': False,\n",
       "  '2': False,\n",
       "  '3': False,\n",
       "  '4': False,\n",
       "  '5': False,\n",
       "  '6': False,\n",
       "  '7': False}}"
      ]
     },
     "execution_count": 2,
     "metadata": {},
     "output_type": "execute_result"
    }
   ],
   "source": [
    "self.state"
   ]
  },
  {
   "cell_type": "code",
   "execution_count": 3,
   "metadata": {},
   "outputs": [
    {
     "data": {
      "application/vnd.jupyter.widget-view+json": {
       "model_id": "36ba1af2a5d24904bdf2aca6f18b132a",
       "version_major": 2,
       "version_minor": 0
      },
      "text/plain": [
       "HypernetxWidget(component='HypernetxWidget', props={'nodes': [{'uid': 'FN', 'value': 1}, {'uid': 'TH', 'value'…"
      ]
     },
     "metadata": {},
     "output_type": "display_data"
    }
   ],
   "source": [
    "HypernetxWidget(H, **self.state)"
   ]
  },
  {
   "cell_type": "code",
   "execution_count": 4,
   "metadata": {
    "scrolled": false
   },
   "outputs": [
    {
     "data": {
      "application/vnd.jupyter.widget-view+json": {
       "model_id": "f9617d0afb4d456788282bccd3004ea3",
       "version_major": 2,
       "version_minor": 0
      },
      "text/plain": [
       "HypernetxWidget(component='HypernetxWidget', props={'nodes': [{'uid': 'FN', 'value': 1}, {'uid': 'TH', 'value'…"
      ]
     },
     "metadata": {},
     "output_type": "display_data"
    }
   ],
   "source": [
    "from hnxwidget import HypernetxWidgetView, HypernetxWidget\n",
    "\n",
    "self = HypernetxWidget(\n",
    "    H,\n",
    "    collapse_nodes=True\n",
    "#     node_labels={'JV': 'Jean Valjean'},\n",
    "#     edge_labels={0: 'LABEL'},\n",
    "#     with_node_labels=False,\n",
    "#     with_edge_labels=False\n",
    ")\n",
    "\n",
    "self"
   ]
  },
  {
   "cell_type": "code",
   "execution_count": 5,
   "metadata": {},
   "outputs": [
    {
     "data": {
      "application/vnd.jupyter.widget-view+json": {
       "model_id": "5d22b055c5bb4fc990d017cf0155aeb3",
       "version_major": 2,
       "version_minor": 0
      },
      "text/plain": [
       "HypernetxWidget(component='HypernetxWidget', props={'nodes': [{'uid': 'FN', 'value': 1}, {'uid': 'TH', 'value'…"
      ]
     },
     "metadata": {},
     "output_type": "display_data"
    }
   ],
   "source": [
    "import numpy as np\n",
    "import pandas as pd\n",
    "\n",
    "def create_random_data(rows, cols):\n",
    "    return pd.DataFrame(\n",
    "        np.random.random((len(rows), len(cols))),\n",
    "        index=rows,\n",
    "        columns=cols\n",
    "    )\n",
    "\n",
    "self = HypernetxWidget(\n",
    "    H,\n",
    "    node_data=create_random_data(list(H), ['a', 'b']).round(3).T.to_dict(),\n",
    "    edge_data=create_random_data(list(H.edges), ['c', 'd']).round(3).T.to_dict(),\n",
    "    node_labels={'JV': 'Jean Valjean'},\n",
    "    edge_labels={0: 'some edge'}\n",
    ")\n",
    "self"
   ]
  },
  {
   "cell_type": "code",
   "execution_count": null,
   "metadata": {},
   "outputs": [],
   "source": []
  }
 ],
 "metadata": {
  "kernelspec": {
   "display_name": "Python 3",
   "language": "python",
   "name": "python3"
  },
  "language_info": {
   "codemirror_mode": {
    "name": "ipython",
    "version": 3
   },
   "file_extension": ".py",
   "mimetype": "text/x-python",
   "name": "python",
   "nbconvert_exporter": "python",
   "pygments_lexer": "ipython3",
   "version": "3.8.5"
  }
 },
 "nbformat": 4,
 "nbformat_minor": 2
}
