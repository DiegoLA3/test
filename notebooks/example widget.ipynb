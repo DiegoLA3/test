{
 "cells": [
  {
   "cell_type": "code",
   "execution_count": 1,
   "metadata": {},
   "outputs": [],
   "source": [
    "from hnxwidget import HypernetxWidget"
   ]
  },
  {
   "cell_type": "code",
   "execution_count": 3,
   "metadata": {},
   "outputs": [
    {
     "data": {
      "application/vnd.jupyter.widget-view+json": {
       "model_id": "d73b4e7db0c64c4b966d09b117b18cb1",
       "version_major": 2,
       "version_minor": 0
      },
      "text/plain": [
       "HypernetxWidget(component='HypernetxWidget', props={'a': 1, 'b': 2})"
      ]
     },
     "metadata": {},
     "output_type": "display_data"
    }
   ],
   "source": [
    "HypernetxWidget(a=1, b=2)"
   ]
  },
  {
   "cell_type": "code",
   "execution_count": 5,
   "metadata": {},
   "outputs": [],
   "source": [
    "import hypernetx as hnx\n",
    "\n",
    "scenes = {\n",
    "    0: ('FN', 'TH'),\n",
    "    1: ('TH', 'JV'),\n",
    "    2: ('BM', 'FN', 'JA'),\n",
    "    3: ('JV', 'JU', 'CH', 'BM'),\n",
    "    4: ('JU', 'CH', 'BR', 'CN', 'CC', 'JV', 'BM'),\n",
    "    5: ('TH', 'GP'),\n",
    "    6: ('GP', 'MP'),\n",
    "    7: ('MA', 'GP')\n",
    "}\n",
    "\n",
    "H = hnx.Hypergraph(scenes)"
   ]
  },
  {
   "cell_type": "code",
   "execution_count": 70,
   "metadata": {},
   "outputs": [],
   "source": [
    "from hnxwidget.react_jupyter_widget import ReactJupyterWidget\n",
    "\n",
    "from hypernetx.drawing.util import get_set_layering\n",
    "\n",
    "class HypernetxWidget(ReactJupyterWidget):\n",
    "    def __init__(self, H, **kwargs):\n",
    "        # will break if already collapsed\n",
    "        self.H = H.collapse_nodes_and_edges()\n",
    "        \n",
    "        levels = get_set_layering(self.H)\n",
    "        \n",
    "        nodes = [\n",
    "            {\n",
    "                'uid': i,\n",
    "                'elements': list(entity.uid)\n",
    "            }\n",
    "            for i, entity in enumerate(self.H.nodes())\n",
    "        ]\n",
    "\n",
    "        nodes_dict = {\n",
    "            entity: i\n",
    "            for i, entity in enumerate(self.H)\n",
    "        }\n",
    "                \n",
    "        # js friendly representation of the hypergraph\n",
    "        edges = [\n",
    "            {\n",
    "                'uid': list(entity.uid),\n",
    "                'elements': [nodes_dict[v] for v in entity.elements],\n",
    "                'level': levels[entity.uid]\n",
    "            }\n",
    "            for entity in self.H.edges()\n",
    "        ]\n",
    "        \n",
    "        super().__init__(\n",
    "            nodes=nodes,\n",
    "            edges=edges,\n",
    "            **kwargs\n",
    "        )\n",
    "\n",
    "self = HypernetxWidget(H)        "
   ]
  },
  {
   "cell_type": "code",
   "execution_count": 74,
   "metadata": {},
   "outputs": [],
   "source": [
    "import json\n",
    "with open('../src/stories/data/props.json', 'w') as fp:\n",
    "    json.dump(self.props, fp)"
   ]
  },
  {
   "cell_type": "code",
   "execution_count": null,
   "metadata": {},
   "outputs": [],
   "source": []
  }
 ],
 "metadata": {
  "kernelspec": {
   "display_name": "Python 3",
   "language": "python",
   "name": "python3"
  },
  "language_info": {
   "codemirror_mode": {
    "name": "ipython",
    "version": 3
   },
   "file_extension": ".py",
   "mimetype": "text/x-python",
   "name": "python",
   "nbconvert_exporter": "python",
   "pygments_lexer": "ipython3",
   "version": "3.8.3"
  }
 },
 "nbformat": 4,
 "nbformat_minor": 2
}
