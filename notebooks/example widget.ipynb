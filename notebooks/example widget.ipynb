{
 "cells": [
  {
   "cell_type": "code",
   "execution_count": 1,
   "metadata": {},
   "outputs": [],
   "source": [
    "import hypernetx as hnx\n",
    "\n",
    "scenes = {\n",
    "    0: ('FN', 'TH'),\n",
    "    1: ('TH', 'JV'),\n",
    "    2: ('BM', 'FN', 'JA'),\n",
    "    3: ('JV', 'JU', 'CH', 'BM'),\n",
    "    4: ('JU', 'CH', 'BR', 'CN', 'CC', 'JV', 'BM'),\n",
    "    5: ('TH', 'GP'),\n",
    "    6: ('GP', 'MP'),\n",
    "    7: ('MA', 'GP'),\n",
    "}\n",
    "\n",
    "H = hnx.Hypergraph(scenes)"
   ]
  },
  {
   "cell_type": "code",
   "execution_count": 2,
   "metadata": {
    "scrolled": false
   },
   "outputs": [
    {
     "data": {
      "application/vnd.jupyter.widget-view+json": {
       "model_id": "8c5bf4e2b42e47039cff35324c78123c",
       "version_major": 2,
       "version_minor": 0
      },
      "text/plain": [
       "HypernetxWidgetView(component='HypernetxWidgetView', props={'nodes': [{'uid': 'FN', 'value': 1}, {'uid': 'TH',…"
      ]
     },
     "metadata": {},
     "output_type": "display_data"
    }
   ],
   "source": [
    "from hnxwidget import HypernetxWidgetView\n",
    "\n",
    "self = HypernetxWidgetView(\n",
    "    H,\n",
    "    collapse_nodes=True\n",
    "#     node_labels={'JV': 'Jean Valjean'},\n",
    "#     edge_labels={0: 'LABEL'},\n",
    "#     with_node_labels=False,\n",
    "#     with_edge_labels=False\n",
    ")\n",
    "\n",
    "self"
   ]
  },
  {
   "cell_type": "code",
   "execution_count": 3,
   "metadata": {},
   "outputs": [
    {
     "data": {
      "application/vnd.jupyter.widget-view+json": {
       "model_id": "5c0148c300654aa984d13c49c9758a00",
       "version_major": 2,
       "version_minor": 0
      },
      "text/plain": [
       "HypernetxWidgetView(component='HypernetxWidgetView', props={'nodes': [{'uid': 'FN', 'value': 1}, {'uid': 'TH',…"
      ]
     },
     "metadata": {},
     "output_type": "display_data"
    }
   ],
   "source": [
    "import numpy as np\n",
    "import pandas as pd\n",
    "\n",
    "def create_random_data(rows, cols):\n",
    "    return pd.DataFrame(\n",
    "        np.random.random((len(rows), len(cols))),\n",
    "        index=rows,\n",
    "        columns=cols\n",
    "    )\n",
    "\n",
    "self = HypernetxWidgetView(\n",
    "    H,\n",
    "    node_data=create_random_data(list(H), ['a', 'b']).round(3).T.to_dict(),\n",
    "    edge_data=create_random_data(list(H.edges), ['c', 'd']).round(3).T.to_dict(),\n",
    "    node_labels={'JV': 'Jean Valjean'},\n",
    "    edge_labels={0: 'some edge'}\n",
    ")\n",
    "self"
   ]
  }
 ],
 "metadata": {
  "kernelspec": {
   "display_name": "Python 3",
   "language": "python",
   "name": "python3"
  },
  "language_info": {
   "codemirror_mode": {
    "name": "ipython",
    "version": 3
   },
   "file_extension": ".py",
   "mimetype": "text/x-python",
   "name": "python",
   "nbconvert_exporter": "python",
   "pygments_lexer": "ipython3",
   "version": "3.8.5"
  }
 },
 "nbformat": 4,
 "nbformat_minor": 2
}
